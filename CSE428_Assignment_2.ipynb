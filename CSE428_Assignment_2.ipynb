{
  "cells": [
    {
      "cell_type": "markdown",
      "metadata": {
        "id": "view-in-github",
        "colab_type": "text"
      },
      "source": [
        "<a href=\"https://colab.research.google.com/github/Ahtesham-Ibne-Mostafa/Computer_Vision_and_Image_Processing/blob/main/CSE428_Assignment_2.ipynb\" target=\"_parent\"><img src=\"https://colab.research.google.com/assets/colab-badge.svg\" alt=\"Open In Colab\"/></a>"
      ]
    },
    {
      "cell_type": "markdown",
      "metadata": {
        "id": "zj9QK-5eYuUj"
      },
      "source": [
        "#Assignment 2"
      ]
    },
    {
      "cell_type": "markdown",
      "metadata": {
        "id": "ZIKMxRxdV36S"
      },
      "source": [
        "Max collaborators = 3\n",
        "\n",
        "Hand holding is low for this assignment. Adjust accordingly. In case of confusion, feel free to reach out to your lab faculties. Good luck."
      ]
    },
    {
      "cell_type": "code",
      "execution_count": 1,
      "metadata": {
        "id": "MDCLdmpUD1e-"
      },
      "outputs": [],
      "source": [
        "COLLABORATORS_NAME = \"Ahtesham Ibne Mostafa\"\n",
        "COLLABORATORS_ID = \"24241309\""
      ]
    },
    {
      "cell_type": "markdown",
      "metadata": {
        "id": "qUBbKxIOEHxW"
      },
      "source": [
        "#Loading dependencies"
      ]
    },
    {
      "cell_type": "code",
      "execution_count": 2,
      "metadata": {
        "id": "_XqDjPoJEHQz"
      },
      "outputs": [],
      "source": [
        "import numpy as np\n",
        "from tensorflow import keras\n",
        "import sklearn\n",
        "import matplotlib.pyplot as plt\n",
        "#add if more dependencies are required here"
      ]
    },
    {
      "cell_type": "markdown",
      "metadata": {
        "id": "1spTeOkGPY7w"
      },
      "source": [
        "#Loading dataset"
      ]
    },
    {
      "cell_type": "code",
      "execution_count": 3,
      "metadata": {
        "colab": {
          "base_uri": "https://localhost:8080/"
        },
        "id": "Qr-Otwz8EvRH",
        "outputId": "df6013e5-3550-4448-fb90-3ba9ab2c7875"
      },
      "outputs": [
        {
          "output_type": "stream",
          "name": "stdout",
          "text": [
            "Downloading data from https://www.cs.toronto.edu/~kriz/cifar-10-python.tar.gz\n",
            "\u001b[1m170498071/170498071\u001b[0m \u001b[32m━━━━━━━━━━━━━━━━━━━━\u001b[0m\u001b[37m\u001b[0m \u001b[1m11s\u001b[0m 0us/step\n"
          ]
        }
      ],
      "source": [
        "id =  24241309\n",
        "\n",
        "(x_train, y_train), (x_test, y_test) = keras.datasets.cifar10.load_data()\n",
        "\n",
        "x_train, y_train = sklearn.utils.resample(x_train, y_train, replace = False, n_samples = 5000, random_state = id, stratify = y_train)\n",
        "x_test, y_test = sklearn.utils.resample(x_test, y_test, replace = False, n_samples = 1000, random_state = id, stratify = y_train)"
      ]
    },
    {
      "cell_type": "markdown",
      "metadata": {
        "id": "vq6eQJ8bEAZ7"
      },
      "source": [
        "#Task 1: Training a logistic regressor [10 Marks]"
      ]
    },
    {
      "cell_type": "markdown",
      "metadata": {
        "id": "VTManISXPccm"
      },
      "source": [
        "###1. Convert the images to grayscale"
      ]
    },
    {
      "cell_type": "code",
      "execution_count": 4,
      "metadata": {
        "colab": {
          "base_uri": "https://localhost:8080/"
        },
        "id": "coRK3suaUhDe",
        "outputId": "5e689996-3bbf-4c4b-d00f-877c64cb5011"
      },
      "outputs": [
        {
          "output_type": "stream",
          "name": "stdout",
          "text": [
            "Original training data shape: (5000, 32, 32, 3)\n",
            "Grayscale training data shape: (5000, 32, 32, 1)\n",
            "Original testing data shape: (1000, 32, 32, 3)\n",
            "Grayscale testing data shape: (1000, 32, 32, 1)\n"
          ]
        }
      ],
      "source": [
        "def rgb_to_grayscale(images):\n",
        "    # CIFAR10 images are RGB, with shape (batch_size, 32, 32, 3)\n",
        "    # Grayscale conversion formula: Y' = 0.299 R + 0.587 G + 0.114 B\n",
        "    grayscale_images = np.dot(images[...,:3], [0.299, 0.587, 0.114])\n",
        "    # Add a channel dimension for consistency with CNN input (batch_size, 32, 32, 1)\n",
        "    return np.expand_dims(grayscale_images, axis=-1)\n",
        "\n",
        "x_train_gray = rgb_to_grayscale(x_train)\n",
        "x_test_gray = rgb_to_grayscale(x_test)\n",
        "\n",
        "print(\"Original training data shape:\", x_train.shape)\n",
        "print(\"Grayscale training data shape:\", x_train_gray.shape)\n",
        "print(\"Original testing data shape:\", x_test.shape)\n",
        "print(\"Grayscale testing data shape:\", x_test_gray.shape)"
      ]
    },
    {
      "cell_type": "markdown",
      "metadata": {
        "id": "OhUfuuFrPm1g"
      },
      "source": [
        "### 2. Prepare the grayscale images for logistic regressor (reshape and normalize)"
      ]
    },
    {
      "cell_type": "markdown",
      "metadata": {
        "id": "Vft4Fy_wYTXm"
      },
      "source": [
        "Use z-score normalization."
      ]
    },
    {
      "cell_type": "code",
      "execution_count": 5,
      "metadata": {
        "id": "NEDttQUgPxBJ",
        "colab": {
          "base_uri": "https://localhost:8080/"
        },
        "outputId": "2973020c-c0ef-4404-ec04-32815867e3f8"
      },
      "outputs": [
        {
          "output_type": "stream",
          "name": "stdout",
          "text": [
            "Reshaped and normalized training data shape: (5000, 1024)\n",
            "Reshaped and normalized testing data shape: (1000, 1024)\n"
          ]
        }
      ],
      "source": [
        "x_train_reshaped = x_train_gray.reshape(x_train_gray.shape[0], -1)\n",
        "x_test_reshaped = x_test_gray.reshape(x_test_gray.shape[0], -1)\n",
        "\n",
        "mean = np.mean(x_train_reshaped, axis=0)\n",
        "std = np.std(x_train_reshaped, axis=0)\n",
        "\n",
        "x_train_normalized = (x_train_reshaped - mean) / std\n",
        "x_test_normalized = (x_test_reshaped - mean) / std\n",
        "\n",
        "print(\"Reshaped and normalized training data shape:\", x_train_normalized.shape)\n",
        "print(\"Reshaped and normalized testing data shape:\", x_test_normalized.shape)"
      ]
    },
    {
      "cell_type": "markdown",
      "metadata": {
        "id": "bpcARCUFPxef"
      },
      "source": [
        "###3. Create a validation set (20%)"
      ]
    },
    {
      "cell_type": "code",
      "execution_count": 6,
      "metadata": {
        "id": "xGYGUTJLQY8N",
        "colab": {
          "base_uri": "https://localhost:8080/"
        },
        "outputId": "ec7d4d38-e8fd-41de-88d5-f86a4d94fd54"
      },
      "outputs": [
        {
          "output_type": "stream",
          "name": "stdout",
          "text": [
            "Training set shape after splitting: (4000, 1024)\n",
            "Validation set shape after splitting: (1000, 1024)\n",
            "Training labels shape after splitting: (4000, 1)\n",
            "Validation labels shape after splitting: (1000, 1)\n"
          ]
        }
      ],
      "source": [
        "from sklearn.model_selection import train_test_split\n",
        "\n",
        "x_train_split, x_val_split, y_train_split, y_val_split = train_test_split(\n",
        "    x_train_normalized,\n",
        "    y_train,\n",
        "    test_size=0.2,\n",
        "    random_state=id,\n",
        "    stratify=y_train\n",
        ")\n",
        "\n",
        "print(\"Training set shape after splitting:\", x_train_split.shape)\n",
        "print(\"Validation set shape after splitting:\", x_val_split.shape)\n",
        "print(\"Training labels shape after splitting:\", y_train_split.shape)\n",
        "print(\"Validation labels shape after splitting:\", y_val_split.shape)"
      ]
    },
    {
      "cell_type": "markdown",
      "metadata": {
        "id": "hG8fGagsTXaM"
      },
      "source": [
        "###4. Compute class weights"
      ]
    },
    {
      "cell_type": "markdown",
      "metadata": {
        "id": "TyiQ4upFTzAI"
      },
      "source": [
        "Go through this link - https://scikit-learn.org/stable/modules/generated/sklearn.utils.class_weight.compute_class_weight.html"
      ]
    },
    {
      "cell_type": "code",
      "execution_count": 4,
      "metadata": {
        "id": "zDq5JrXtTx4n"
      },
      "outputs": [],
      "source": []
    },
    {
      "cell_type": "markdown",
      "metadata": {
        "id": "SS1CvHnfQZui"
      },
      "source": [
        "###5. Run the logistic regressor"
      ]
    },
    {
      "cell_type": "markdown",
      "metadata": {
        "id": "KD1xXEEwQgga"
      },
      "source": [
        "Use L2 regularizer. Find the C hyperparameter value through grid search. Pick the testing values according to your understanding. Use at least 3 test values and at max 5. Use the computed class weights while training your model."
      ]
    },
    {
      "cell_type": "code",
      "execution_count": 4,
      "metadata": {
        "id": "q4zfIE3FQf9U"
      },
      "outputs": [],
      "source": []
    },
    {
      "cell_type": "markdown",
      "metadata": {
        "id": "eyUigal5RQi7"
      },
      "source": [
        "###6. Evaluate the logistic regressor on the test set"
      ]
    },
    {
      "cell_type": "code",
      "execution_count": 4,
      "metadata": {
        "id": "NKirV-TORT_e"
      },
      "outputs": [],
      "source": []
    },
    {
      "cell_type": "markdown",
      "metadata": {
        "id": "I1COtQ3Yo5XX"
      },
      "source": [
        "###7. Write code to pick up a random image from the test set and display it"
      ]
    },
    {
      "cell_type": "code",
      "execution_count": 4,
      "metadata": {
        "id": "L8HM5Asuo99j"
      },
      "outputs": [],
      "source": []
    },
    {
      "cell_type": "markdown",
      "metadata": {
        "id": "6kLNUZtzpC3U"
      },
      "source": [
        "###8. Print the predicted class vs the original class"
      ]
    },
    {
      "cell_type": "markdown",
      "metadata": {
        "id": "aJb3nHZgo4ZQ"
      },
      "source": [
        "Do not print out the numerical class. Map it from here - https://keras.io/2/api/datasets/cifar10/"
      ]
    },
    {
      "cell_type": "code",
      "execution_count": 4,
      "metadata": {
        "id": "hjvYQALUpD3n"
      },
      "outputs": [],
      "source": []
    },
    {
      "cell_type": "markdown",
      "metadata": {
        "id": "xd6ctJcyRa5L"
      },
      "source": [
        "#Task 2: Training a convolutional neural network [20 Marks]"
      ]
    },
    {
      "cell_type": "markdown",
      "metadata": {
        "id": "PqvJrLWmRuyL"
      },
      "source": [
        "We will not strictly control how you implement this code. You can use either Tensorflow or PyTorch. However the structure of the network must be -\n",
        "\n",
        "```\n",
        "Input -> Conv1 -> Conv2 -> Conv3 -> Fully Connected 1 -> Fully Connected 2 -> Output\n",
        "```\n",
        "\n",
        "Use activation functions and pooling as you want. Feel free to adjust dimensions as you need. Set the hyperparameters yourself. Use a maximum learning rate of 0.01 and a maximum epoch number of 100. Use AdamW as optimizer.\n",
        "\n",
        "**Try achieving good accuracy. There are marks for that.**"
      ]
    },
    {
      "cell_type": "markdown",
      "metadata": {
        "id": "Eg4e1kUBUCTq"
      },
      "source": [
        "###1. Train the model on grayscale images"
      ]
    },
    {
      "cell_type": "markdown",
      "metadata": {
        "id": "zgoBiFcwUF1b"
      },
      "source": [
        "You do not need to use the validation set. Train on the initial train set. Recalculate the class weights again and pass it to the optimizer function. Normalize the images before processing."
      ]
    },
    {
      "cell_type": "code",
      "execution_count": 4,
      "metadata": {
        "id": "zF7-vXC1RpRX"
      },
      "outputs": [],
      "source": []
    },
    {
      "cell_type": "markdown",
      "metadata": {
        "id": "QH9S4fLiUMza"
      },
      "source": [
        "###2. Evaluate the model on the grayscale test set"
      ]
    },
    {
      "cell_type": "code",
      "execution_count": 4,
      "metadata": {
        "id": "g7Jwzg6EUQ2x"
      },
      "outputs": [],
      "source": []
    },
    {
      "cell_type": "markdown",
      "metadata": {
        "id": "5Wvna5JKokP8"
      },
      "source": [
        "###3. Write code to pick up a random image from the test set and display it"
      ]
    },
    {
      "cell_type": "code",
      "execution_count": 4,
      "metadata": {
        "id": "BIqJEI77olBD"
      },
      "outputs": [],
      "source": []
    },
    {
      "cell_type": "markdown",
      "metadata": {
        "id": "_HRX0XOwoode"
      },
      "source": [
        "###4. Print the predicted class vs the original class"
      ]
    },
    {
      "cell_type": "code",
      "execution_count": 4,
      "metadata": {
        "id": "L2Ihb9opoq0G"
      },
      "outputs": [],
      "source": []
    },
    {
      "cell_type": "markdown",
      "metadata": {
        "id": "BvO11goFURbC"
      },
      "source": [
        "###5. Train the model on the RGB images"
      ]
    },
    {
      "cell_type": "markdown",
      "metadata": {
        "id": "3vGs-tpwUpOc"
      },
      "source": [
        "Keep the model same."
      ]
    },
    {
      "cell_type": "code",
      "execution_count": 4,
      "metadata": {
        "id": "fb3Cbv_tUlkK"
      },
      "outputs": [],
      "source": []
    },
    {
      "cell_type": "markdown",
      "metadata": {
        "id": "W9DM5SjbUmMl"
      },
      "source": [
        "###6. Evaluate the model on the RGB images"
      ]
    },
    {
      "cell_type": "code",
      "execution_count": 4,
      "metadata": {
        "id": "rHlOvimGUoxe"
      },
      "outputs": [],
      "source": []
    },
    {
      "cell_type": "markdown",
      "metadata": {
        "id": "zXUSCL9GWHcx"
      },
      "source": [
        "###7. Write code to pick up a random image from the test set and display it"
      ]
    },
    {
      "cell_type": "code",
      "execution_count": 4,
      "metadata": {
        "id": "X1rplFeGWTyi"
      },
      "outputs": [],
      "source": []
    },
    {
      "cell_type": "markdown",
      "metadata": {
        "id": "AEC37E2CWSsp"
      },
      "source": [
        "###8. Print the predicted class vs the original class"
      ]
    },
    {
      "cell_type": "code",
      "execution_count": 4,
      "metadata": {
        "id": "xkSJ2IvDWjKh"
      },
      "outputs": [],
      "source": []
    },
    {
      "cell_type": "markdown",
      "metadata": {
        "id": "Pk-B9vNdpG6a"
      },
      "source": [
        "###9. Add one more conv layer and check if it increases the performance for the RGB images"
      ]
    },
    {
      "cell_type": "code",
      "execution_count": 4,
      "metadata": {
        "id": "k6RDr59DpvCY"
      },
      "outputs": [],
      "source": []
    },
    {
      "cell_type": "markdown",
      "metadata": {
        "id": "u1TXbZEyUr2a"
      },
      "source": [
        "###10. Use the next markup to write down your observations and reasonings on the performances of the models"
      ]
    },
    {
      "cell_type": "markdown",
      "metadata": {
        "id": "nTC63sXOU0Uo"
      },
      "source": [
        "Observations -\n",
        "\n",
        "\\*Delete this and write here\\*"
      ]
    }
  ],
  "metadata": {
    "colab": {
      "provenance": [],
      "include_colab_link": true
    },
    "kernelspec": {
      "display_name": "Python 3",
      "language": "python",
      "name": "python3"
    },
    "language_info": {
      "codemirror_mode": {
        "name": "ipython",
        "version": 3
      },
      "file_extension": ".py",
      "mimetype": "text/x-python",
      "name": "python",
      "nbconvert_exporter": "python",
      "pygments_lexer": "ipython3",
      "version": "3.11.13"
    }
  },
  "nbformat": 4,
  "nbformat_minor": 0
}